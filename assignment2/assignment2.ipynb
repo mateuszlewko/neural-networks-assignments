{
 "cells": [
  {
   "cell_type": "markdown",
   "metadata": {},
   "source": [
    "##  Naive Bayes classifier"
   ]
  },
  {
   "cell_type": "code",
   "execution_count": 1,
   "metadata": {
    "collapsed": true
   },
   "outputs": [],
   "source": [
    "# Standard IPython notebook imports\n",
    "%matplotlib inline\n",
    "\n",
    "from __future__ import absolute_import\n",
    "from __future__ import division\n",
    "from __future__ import print_function"
   ]
  },
  {
   "cell_type": "code",
   "execution_count": 44,
   "metadata": {
    "collapsed": false
   },
   "outputs": [
    {
     "name": "stdout",
     "output_type": "stream",
     "text": [
      "0\n",
      "1\n"
     ]
    }
   ],
   "source": [
    "import numpy as np\n",
    "from functools import reduce\n",
    "\n",
    "ppbs = np.array([[0.08167, 0.10503, 0.11525],\n",
    "          [0.12702, 0.07352, 0.12181],\n",
    "          [0.06966, 0.08328, 0.06247],\n",
    "          [0.07507, 0.02445, 0.08683],\n",
    "          [0.02758, 0.02062, 0.02927],\n",
    "          [0.01974, 0.03206, 0.01008],\n",
    "          [0.59926, 0.66104, 0.57429]])\n",
    "\n",
    "chars = {c: i for i, c in enumerate(('a', 'e', 'i', 'o', 'u', 'y', '_'))}\n",
    "\n",
    "def classify(text, priori):\n",
    "    vec = [c if c in chars else '_' for c in (text.replace(' ', ''))]\n",
    "    compute = lambda Ci: reduce(lambda v, letter: \n",
    "                                ppbs[chars[letter], Ci] * v, vec, priori[Ci])\n",
    "    \n",
    "    return np.argmax(list(map(compute, range(0, 3))))\n",
    "    \n",
    "print(classify('computer', [.33, .33, .33]))\n",
    "print(classify('kurczak', [.33, .33, .33]))"
   ]
  },
  {
   "cell_type": "markdown",
   "metadata": {},
   "source": [
    "### Task 4"
   ]
  },
  {
   "cell_type": "markdown",
   "metadata": {},
   "source": [
    "a) Multiplying lots of small probabilities can lead to small values and loss of precision (and worse accuracy)"
   ]
  },
  {
   "cell_type": "code",
   "execution_count": 48,
   "metadata": {
    "collapsed": false
   },
   "outputs": [
    {
     "name": "stdout",
     "output_type": "stream",
     "text": [
      "POL\n",
      "SPA\n",
      "POL\n",
      "SPA\n",
      "ENG\n",
      "ENG\n",
      "POL\n",
      "SPA\n"
     ]
    }
   ],
   "source": [
    "# b)\n",
    "words = ['bull', 'burro', 'kurczak', 'pollo', \n",
    "         'litwo ojczyzno ty moja ty jesteś jak zdrowie', \n",
    "         'dinero', 'mama just killed a man put a gun against his head',\n",
    "         'maradona es mas grande que pele']\n",
    "prio = [.33, .33, .33]\n",
    "cls = ['ENG', 'POL', 'SPA']\n",
    "for w in words: print(cls[classify(w, prio)])"
   ]
  },
  {
   "cell_type": "code",
   "execution_count": 49,
   "metadata": {
    "collapsed": false
   },
   "outputs": [
    {
     "name": "stdout",
     "output_type": "stream",
     "text": [
      "ENG\n",
      "ENG\n",
      "ENG\n",
      "ENG\n",
      "ENG\n",
      "ENG\n",
      "POL\n",
      "SPA\n"
     ]
    }
   ],
   "source": [
    "# c)\n",
    "prio = [.5, .2, .3]\n",
    "for w in words: print(cls[classify(w, prio)])"
   ]
  },
  {
   "cell_type": "code",
   "execution_count": 50,
   "metadata": {
    "collapsed": false
   },
   "outputs": [
    {
     "name": "stdout",
     "output_type": "stream",
     "text": [
      "ENG\n"
     ]
    }
   ],
   "source": [
    "# d)\n",
    "prio = [.33, .33, .33]\n",
    "print(cls[classify('elokwentne', prio)])"
   ]
  },
  {
   "cell_type": "markdown",
   "metadata": {},
   "source": [
    "##### e) \n",
    "P(out-of-vocabulary word | any_class) is 0 so I would propose to either to skip out-of-vocabulary \n",
    "words or set P(out-of-vocabulary word | any_class) as a priori value for a given class."
   ]
  },
  {
   "cell_type": "markdown",
   "metadata": {},
   "source": [
    "### Task 7"
   ]
  },
  {
   "cell_type": "code",
   "execution_count": null,
   "metadata": {
    "collapsed": false
   },
   "outputs": [],
   "source": [
    "# a)\n",
    "series = 'PPRSSRSPPRSPRRSPPPSSPRSPSPSRSP'\n",
    "letts  = {'P': 0, 'R': 1, 'S': 2}\n",
    "cnts   = np.zeros((3, 3))\n",
    "print(cnts)\n",
    "\n",
    "for i in range(len(series) - 1):\n",
    "    cnts[letts[series[i + 1]], letts[series[i]]] += 1\n",
    "\n",
    "tot = np.sum(cnts, axis=0)\n",
    "print(tot)\n",
    "\n",
    "ppbs = np.zeros((3, 3))\n",
    "\n",
    "for a, aind in letts.items():\n",
    "    for b, bind in letts.items():\n",
    "        ppbs[aind, bind] = cnts[aind, bind] / tot[bind]\n",
    "        print(\"P(%s | %s) = %d / %d\" % (a, b, cnts[aind, bind], tot[bind]))\n",
    "        \n",
    "print(ppbs)\n",
    "        "
   ]
  },
  {
   "cell_type": "code",
   "execution_count": null,
   "metadata": {
    "collapsed": false
   },
   "outputs": [],
   "source": [
    "# b) \n",
    "import numpy as np\n",
    "\n",
    "from random import randint\n",
    "from numpy.random import choice\n",
    "\n",
    "cnts2 = np.zeros((3,))\n",
    "for c in series:\n",
    "    cnts2[letts[c]] += 1\n",
    "cnts2 /= np.sum(cnts2)\n",
    "    \n",
    "def first_win(fst, snd):\n",
    "    return (fst, snd) in {(0, 1), (1, 2), (2, 0)}\n",
    "\n",
    "def get_choice(pbs):\n",
    "    return choice(list(range(0, 3)), p=pbs)\n",
    "    \n",
    "trurl = get_choice(cnts2)\n",
    "last = randint(0, 2)\n",
    "trurl_cnt = 1 if first_win(trurl, last) else 0\n",
    "\n",
    "N = 1000\n",
    "for _ in range(N - 1):\n",
    "    curr = get_choice(ppbs[:,last])\n",
    "    trurl = get_choice(cnts2)\n",
    "\n",
    "    trurl_cnt += 1 if first_win(trurl, curr) else 0\n",
    "    other\n",
    "    last = curr\n",
    "    \n",
    "print(\"%d trurl vs %d klap\" % (trurl_cnt, N - trurl_cnt))"
   ]
  },
  {
   "cell_type": "code",
   "execution_count": null,
   "metadata": {
    "collapsed": true
   },
   "outputs": [],
   "source": []
  }
 ],
 "metadata": {
  "kernelspec": {
   "display_name": "Python 3",
   "language": "python",
   "name": "python3"
  },
  "language_info": {
   "codemirror_mode": {
    "name": "ipython",
    "version": 3
   },
   "file_extension": ".py",
   "mimetype": "text/x-python",
   "name": "python",
   "nbconvert_exporter": "python",
   "pygments_lexer": "ipython3",
   "version": "3.6.0"
  }
 },
 "nbformat": 4,
 "nbformat_minor": 2
}
